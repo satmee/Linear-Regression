{
 "cells": [
  {
   "cell_type": "markdown",
   "id": "7124be0a-52a0-4269-b3d3-6ef1f32df6d7",
   "metadata": {},
   "source": [
    "# One- sample t-test\n",
    "This test will tell us if mean of the sample and population are same or different."
   ]
  },
  {
   "cell_type": "code",
   "execution_count": 1,
   "id": "b624e647-a2bc-489d-a64c-6c56e0a8b7ab",
   "metadata": {},
   "outputs": [],
   "source": [
    "ages = [10,55,54,74,16,45,63,95,23,28,34,36,10,9,74,88,44,67,40,35,69,5,78,44,66,55,71,30,37,41,25,27,41,36]"
   ]
  },
  {
   "cell_type": "code",
   "execution_count": 2,
   "id": "fab10273-0683-4b6e-b800-9b8a8cefce23",
   "metadata": {},
   "outputs": [
    {
     "data": {
      "text/plain": [
       "34"
      ]
     },
     "execution_count": 2,
     "metadata": {},
     "output_type": "execute_result"
    }
   ],
   "source": [
    "len(ages)"
   ]
  },
  {
   "cell_type": "code",
   "execution_count": 3,
   "id": "b058867c-3147-432e-b75f-5fd2d783cede",
   "metadata": {},
   "outputs": [
    {
     "name": "stdout",
     "output_type": "stream",
     "text": [
      "44.85294117647059\n"
     ]
    }
   ],
   "source": [
    "import numpy as np\n",
    "mean = np.mean(ages)\n",
    "print(mean)"
   ]
  },
  {
   "cell_type": "code",
   "execution_count": 4,
   "id": "c4813d89-b9e0-4ee5-8cef-02d9715c4358",
   "metadata": {},
   "outputs": [],
   "source": [
    "# Let's take sample\n",
    "sample_size =20\n",
    "age_sample = np.random.choice(ages,sample_size)"
   ]
  },
  {
   "cell_type": "code",
   "execution_count": 5,
   "id": "11b77bc7-fe8f-40ea-b8af-0aee770239a8",
   "metadata": {},
   "outputs": [
    {
     "data": {
      "text/plain": [
       "array([36, 16, 36, 71, 78, 71, 36, 23, 66, 41, 44, 41, 16, 25, 63, 30, 66,\n",
       "       71, 27, 41])"
      ]
     },
     "execution_count": 5,
     "metadata": {},
     "output_type": "execute_result"
    }
   ],
   "source": [
    "age_sample"
   ]
  },
  {
   "cell_type": "code",
   "execution_count": 6,
   "id": "f2531a6d-d0b7-42f3-8c0c-88b1348222cd",
   "metadata": {},
   "outputs": [],
   "source": [
    "from scipy.stats import ttest_1samp"
   ]
  },
  {
   "cell_type": "code",
   "execution_count": 7,
   "id": "89125ee2-6ee8-4520-b2ef-872feedaa6e1",
   "metadata": {},
   "outputs": [],
   "source": [
    "ttest, p_value = ttest_1samp(age_sample,44) # popmean = The mean age of our population"
   ]
  },
  {
   "cell_type": "code",
   "execution_count": 8,
   "id": "fc8970df-cd54-4aae-8565-646c5e280408",
   "metadata": {},
   "outputs": [
    {
     "name": "stdout",
     "output_type": "stream",
     "text": [
      "0.8439532002078209\n"
     ]
    }
   ],
   "source": [
    "print(p_value)"
   ]
  },
  {
   "cell_type": "code",
   "execution_count": 9,
   "id": "538ae9b2-d927-4378-b8d0-b2961b1ff550",
   "metadata": {},
   "outputs": [
    {
     "name": "stdout",
     "output_type": "stream",
     "text": [
      "We are accepting Null Hypothesis\n"
     ]
    }
   ],
   "source": [
    "if p_value <0.05:\n",
    "    print('We are rejecting Null Hypothesis')\n",
    "else:\n",
    "    print('We are accepting Null Hypothesis')"
   ]
  },
  {
   "cell_type": "markdown",
   "id": "7b78c172-56ff-42db-bbfb-f2a26cc4c15f",
   "metadata": {},
   "source": [
    "Let's try with larger sample size:"
   ]
  },
  {
   "cell_type": "code",
   "execution_count": 10,
   "id": "06f2d6f6-f145-4ce8-ba2c-141eb98a9df3",
   "metadata": {},
   "outputs": [],
   "source": [
    "# With 100 sample size\n",
    "sample_size = 100\n",
    "age_sample = np.random.choice(ages,sample_size)"
   ]
  },
  {
   "cell_type": "code",
   "execution_count": 11,
   "id": "aa7beadc-1971-4cf1-b328-9773ecc8d0ec",
   "metadata": {},
   "outputs": [],
   "source": [
    "ttest,p_value = ttest_1samp(age_sample,44)"
   ]
  },
  {
   "cell_type": "code",
   "execution_count": 12,
   "id": "98a5dce8-2a48-4c35-9170-7b45bd5a780b",
   "metadata": {},
   "outputs": [
    {
     "name": "stdout",
     "output_type": "stream",
     "text": [
      "0.10733325571163867\n"
     ]
    }
   ],
   "source": [
    "print(p_value)"
   ]
  },
  {
   "cell_type": "code",
   "execution_count": 13,
   "id": "18435737-0ca0-478c-ada2-fa12051a4d63",
   "metadata": {},
   "outputs": [
    {
     "name": "stdout",
     "output_type": "stream",
     "text": [
      "We are accepting Null Hypothesis\n"
     ]
    }
   ],
   "source": [
    "if p_value <0.05:\n",
    "    print('We are rejecting Null Hypothesis')\n",
    "else:\n",
    "    print('We are accepting Null Hypothesis')"
   ]
  },
  {
   "cell_type": "code",
   "execution_count": 14,
   "id": "6b57befa-6504-4304-bf98-745b78b04e04",
   "metadata": {},
   "outputs": [],
   "source": [
    "# With 10000 sample size\n",
    "sample_size = 10000\n",
    "age_sample = np.random.choice(ages,sample_size)"
   ]
  },
  {
   "cell_type": "code",
   "execution_count": 15,
   "id": "62fa8e5e-c6ca-4c4a-821f-fcbd080dfb3c",
   "metadata": {},
   "outputs": [],
   "source": [
    "ttest,p_value = ttest_1samp(age_sample,44)"
   ]
  },
  {
   "cell_type": "code",
   "execution_count": 16,
   "id": "265131d9-b23d-4975-b2da-012af2cb551c",
   "metadata": {},
   "outputs": [
    {
     "name": "stdout",
     "output_type": "stream",
     "text": [
      "8.738538718270296e-05\n"
     ]
    }
   ],
   "source": [
    "print(p_value)"
   ]
  },
  {
   "cell_type": "code",
   "execution_count": 17,
   "id": "a9caa6f1-d38f-431f-89e6-46e7300a12fa",
   "metadata": {},
   "outputs": [
    {
     "name": "stdout",
     "output_type": "stream",
     "text": [
      "We are rejecting Null Hypothesis\n"
     ]
    }
   ],
   "source": [
    "if p_value <0.05:\n",
    "    print('We are rejecting Null Hypothesis')\n",
    "else:\n",
    "    print('We are accepting Null Hypothesis')"
   ]
  },
  {
   "cell_type": "markdown",
   "id": "f2d36594-8a53-4e01-8145-e1459ecc818c",
   "metadata": {},
   "source": [
    "#### As we can see the sample size incraesed the p_value reduced and we got our verdict of rejecting the Null hypothesis"
   ]
  },
  {
   "cell_type": "markdown",
   "id": "59be8cac-1b91-4f73-ba3e-a03a4205d798",
   "metadata": {},
   "source": [
    "## Some more exmaple"
   ]
  },
  {
   "cell_type": "code",
   "execution_count": 18,
   "id": "57599f0d-fc9d-498f-a8eb-33abd5fe47ae",
   "metadata": {},
   "outputs": [],
   "source": [
    "import numpy as np\n",
    "import pandas as pd\n",
    "import scipy.stats as stats\n",
    "import math\n",
    "np.random.seed(6)# number generator\n",
    "school_height = stats.poisson.rvs(loc = 18, mu =140, size = 1000) # loc is left most value in bell curve\n",
    "classA_height = stats.poisson.rvs(loc = 18, mu =155, size = 60)"
   ]
  },
  {
   "cell_type": "code",
   "execution_count": 19,
   "id": "9d1619c9-08c4-47a9-ae1e-94ebc268c8a4",
   "metadata": {},
   "outputs": [
    {
     "data": {
      "text/plain": [
       "175.45"
      ]
     },
     "execution_count": 19,
     "metadata": {},
     "output_type": "execute_result"
    }
   ],
   "source": [
    "classA_height.mean()"
   ]
  },
  {
   "cell_type": "code",
   "execution_count": 20,
   "id": "28e2d461-5918-48b6-8960-41d7a6a81515",
   "metadata": {},
   "outputs": [],
   "source": [
    "ttest, p_value = stats.ttest_1samp(a = classA_height, popmean = school_height.mean())"
   ]
  },
  {
   "cell_type": "code",
   "execution_count": 21,
   "id": "0ffdf8ec-0675-461d-84ab-9ac0e715bad7",
   "metadata": {},
   "outputs": [
    {
     "name": "stdout",
     "output_type": "stream",
     "text": [
      "3.210528554315708e-16\n"
     ]
    }
   ],
   "source": [
    "print(p_value)"
   ]
  },
  {
   "cell_type": "code",
   "execution_count": 22,
   "id": "540e8486-6654-4cd0-ba29-4947b87145f8",
   "metadata": {},
   "outputs": [
    {
     "data": {
      "text/plain": [
       "158.338"
      ]
     },
     "execution_count": 22,
     "metadata": {},
     "output_type": "execute_result"
    }
   ],
   "source": [
    "school_height.mean()"
   ]
  },
  {
   "cell_type": "code",
   "execution_count": 23,
   "id": "7f234a4e-0c3a-4635-b767-2b03c1cd2996",
   "metadata": {},
   "outputs": [
    {
     "name": "stdout",
     "output_type": "stream",
     "text": [
      "We are rejecting Null Hypothesis\n"
     ]
    }
   ],
   "source": [
    "if p_value <0.05:\n",
    "    print('We are rejecting Null Hypothesis')\n",
    "else:\n",
    "    print('We are accepting Null Hypothesis')"
   ]
  },
  {
   "cell_type": "markdown",
   "id": "bc93882b-89be-430f-bf1a-272484b0ad70",
   "metadata": {},
   "source": [
    "# Two-sampled t-tes\n",
    " It is used to determine whether the means of two groups are significantly different from each other."
   ]
  },
  {
   "cell_type": "code",
   "execution_count": 24,
   "id": "0a29e567-56a7-4195-a049-024be7204a6e",
   "metadata": {},
   "outputs": [],
   "source": [
    "np.random.seed(12)\n",
    "classB_height = stats.poisson.rvs(loc=18, mu = 135,size = 60 )"
   ]
  },
  {
   "cell_type": "code",
   "execution_count": 25,
   "id": "bc42a338-ec12-4e95-9253-e9a17d6a57a9",
   "metadata": {},
   "outputs": [
    {
     "data": {
      "text/plain": [
       "153.11666666666667"
      ]
     },
     "execution_count": 25,
     "metadata": {},
     "output_type": "execute_result"
    }
   ],
   "source": [
    "classB_height.mean()"
   ]
  },
  {
   "cell_type": "code",
   "execution_count": 26,
   "id": "4eacd4f0-a34d-4277-bb28-406efcebd4d3",
   "metadata": {},
   "outputs": [],
   "source": [
    "ttest, p_value = stats.ttest_ind(a= classA_height, b=classB_height, equal_var = False) # equal_var = False, doesn't assume equal population variance"
   ]
  },
  {
   "cell_type": "code",
   "execution_count": 27,
   "id": "f1267a6b-d959-4393-ba00-ebc09ab538b1",
   "metadata": {},
   "outputs": [
    {
     "name": "stdout",
     "output_type": "stream",
     "text": [
      "6.153333069521077e-18\n"
     ]
    }
   ],
   "source": [
    "print(p_value)"
   ]
  },
  {
   "cell_type": "code",
   "execution_count": 28,
   "id": "0c85c32b-fc53-4f01-8a19-eedc20c21f17",
   "metadata": {},
   "outputs": [
    {
     "name": "stdout",
     "output_type": "stream",
     "text": [
      "We are rejecting Null Hypothesis\n"
     ]
    }
   ],
   "source": [
    "if p_value <0.05:\n",
    "    print('We are rejecting Null Hypothesis')\n",
    "else:\n",
    "    print('We are accepting Null Hypothesis')"
   ]
  },
  {
   "cell_type": "markdown",
   "id": "3702b7ff-10d6-494e-8141-9a74731f6f65",
   "metadata": {},
   "source": [
    "# Paired T-test\n",
    "When you want to check how different samples from same group are"
   ]
  },
  {
   "cell_type": "code",
   "execution_count": 29,
   "id": "a2af9fd1-fc2b-4070-8eae-48313d41388e",
   "metadata": {},
   "outputs": [],
   "source": [
    "weight1 = [45,41,60,66,42,28,29,25,30,33,38,47,50,52]\n",
    "weight2 = weight1+stats.norm.rvs(scale = 5, loc = -1.25,size = 14)"
   ]
  },
  {
   "cell_type": "code",
   "execution_count": 30,
   "id": "eb5481ac-dc56-4286-8e3a-54fe2ed85dcd",
   "metadata": {},
   "outputs": [
    {
     "name": "stdout",
     "output_type": "stream",
     "text": [
      "[45, 41, 60, 66, 42, 28, 29, 25, 30, 33, 38, 47, 50, 52]\n",
      "[58.95843103 36.61959389 66.27950456 61.81331956 47.57926457 32.91022437\n",
      " 30.00444617 20.54295091 21.86201983 36.57873174 30.3299827  39.3771395\n",
      " 56.36420881 58.05941216]\n"
     ]
    }
   ],
   "source": [
    "print(weight1)\n",
    "print(weight2)"
   ]
  },
  {
   "cell_type": "code",
   "execution_count": 31,
   "id": "f4ea18dd-bcdf-47f7-830c-9e925b099b15",
   "metadata": {},
   "outputs": [],
   "source": [
    "weight = pd.DataFrame({'weight1': np.array(weight1),'weight2':np.array(weight2),'weight difference': np.array(weight2)-np.array(weight1)})"
   ]
  },
  {
   "cell_type": "code",
   "execution_count": 32,
   "id": "6ca6c024-14e1-4e2b-9882-21c67f6c4131",
   "metadata": {},
   "outputs": [
    {
     "data": {
      "text/html": [
       "<div>\n",
       "<style scoped>\n",
       "    .dataframe tbody tr th:only-of-type {\n",
       "        vertical-align: middle;\n",
       "    }\n",
       "\n",
       "    .dataframe tbody tr th {\n",
       "        vertical-align: top;\n",
       "    }\n",
       "\n",
       "    .dataframe thead th {\n",
       "        text-align: right;\n",
       "    }\n",
       "</style>\n",
       "<table border=\"1\" class=\"dataframe\">\n",
       "  <thead>\n",
       "    <tr style=\"text-align: right;\">\n",
       "      <th></th>\n",
       "      <th>weight1</th>\n",
       "      <th>weight2</th>\n",
       "      <th>weight difference</th>\n",
       "    </tr>\n",
       "  </thead>\n",
       "  <tbody>\n",
       "    <tr>\n",
       "      <th>0</th>\n",
       "      <td>45</td>\n",
       "      <td>58.958431</td>\n",
       "      <td>13.958431</td>\n",
       "    </tr>\n",
       "    <tr>\n",
       "      <th>1</th>\n",
       "      <td>41</td>\n",
       "      <td>36.619594</td>\n",
       "      <td>-4.380406</td>\n",
       "    </tr>\n",
       "    <tr>\n",
       "      <th>2</th>\n",
       "      <td>60</td>\n",
       "      <td>66.279505</td>\n",
       "      <td>6.279505</td>\n",
       "    </tr>\n",
       "    <tr>\n",
       "      <th>3</th>\n",
       "      <td>66</td>\n",
       "      <td>61.813320</td>\n",
       "      <td>-4.186680</td>\n",
       "    </tr>\n",
       "    <tr>\n",
       "      <th>4</th>\n",
       "      <td>42</td>\n",
       "      <td>47.579265</td>\n",
       "      <td>5.579265</td>\n",
       "    </tr>\n",
       "    <tr>\n",
       "      <th>5</th>\n",
       "      <td>28</td>\n",
       "      <td>32.910224</td>\n",
       "      <td>4.910224</td>\n",
       "    </tr>\n",
       "    <tr>\n",
       "      <th>6</th>\n",
       "      <td>29</td>\n",
       "      <td>30.004446</td>\n",
       "      <td>1.004446</td>\n",
       "    </tr>\n",
       "    <tr>\n",
       "      <th>7</th>\n",
       "      <td>25</td>\n",
       "      <td>20.542951</td>\n",
       "      <td>-4.457049</td>\n",
       "    </tr>\n",
       "    <tr>\n",
       "      <th>8</th>\n",
       "      <td>30</td>\n",
       "      <td>21.862020</td>\n",
       "      <td>-8.137980</td>\n",
       "    </tr>\n",
       "    <tr>\n",
       "      <th>9</th>\n",
       "      <td>33</td>\n",
       "      <td>36.578732</td>\n",
       "      <td>3.578732</td>\n",
       "    </tr>\n",
       "    <tr>\n",
       "      <th>10</th>\n",
       "      <td>38</td>\n",
       "      <td>30.329983</td>\n",
       "      <td>-7.670017</td>\n",
       "    </tr>\n",
       "    <tr>\n",
       "      <th>11</th>\n",
       "      <td>47</td>\n",
       "      <td>39.377139</td>\n",
       "      <td>-7.622861</td>\n",
       "    </tr>\n",
       "    <tr>\n",
       "      <th>12</th>\n",
       "      <td>50</td>\n",
       "      <td>56.364209</td>\n",
       "      <td>6.364209</td>\n",
       "    </tr>\n",
       "    <tr>\n",
       "      <th>13</th>\n",
       "      <td>52</td>\n",
       "      <td>58.059412</td>\n",
       "      <td>6.059412</td>\n",
       "    </tr>\n",
       "  </tbody>\n",
       "</table>\n",
       "</div>"
      ],
      "text/plain": [
       "    weight1    weight2  weight difference\n",
       "0        45  58.958431          13.958431\n",
       "1        41  36.619594          -4.380406\n",
       "2        60  66.279505           6.279505\n",
       "3        66  61.813320          -4.186680\n",
       "4        42  47.579265           5.579265\n",
       "5        28  32.910224           4.910224\n",
       "6        29  30.004446           1.004446\n",
       "7        25  20.542951          -4.457049\n",
       "8        30  21.862020          -8.137980\n",
       "9        33  36.578732           3.578732\n",
       "10       38  30.329983          -7.670017\n",
       "11       47  39.377139          -7.622861\n",
       "12       50  56.364209           6.364209\n",
       "13       52  58.059412           6.059412"
      ]
     },
     "execution_count": 32,
     "metadata": {},
     "output_type": "execute_result"
    }
   ],
   "source": [
    "weight"
   ]
  },
  {
   "cell_type": "code",
   "execution_count": 33,
   "id": "7f584a8a-51e1-4f7c-9a22-a24a9c68da4d",
   "metadata": {},
   "outputs": [],
   "source": [
    "ttest, p_value = stats.ttest_rel(a = weight1, b = weight2)"
   ]
  },
  {
   "cell_type": "code",
   "execution_count": 34,
   "id": "c27184f5-8c2b-4b9d-9731-59e3dca9c524",
   "metadata": {},
   "outputs": [
    {
     "name": "stdout",
     "output_type": "stream",
     "text": [
      "0.6674197543184104\n"
     ]
    }
   ],
   "source": [
    "print(p_value)"
   ]
  },
  {
   "cell_type": "code",
   "execution_count": 35,
   "id": "6a90b410-7457-4ec3-907c-209cd6dbdefa",
   "metadata": {},
   "outputs": [
    {
     "name": "stdout",
     "output_type": "stream",
     "text": [
      "We are accepting Null Hypothesis\n"
     ]
    }
   ],
   "source": [
    "if p_value <0.05:\n",
    "    print('We are rejecting Null Hypothesis')\n",
    "else:\n",
    "    print('We are accepting Null Hypothesis')"
   ]
  },
  {
   "cell_type": "markdown",
   "id": "13971946-bea4-4802-8e44-b6f2b07bbc57",
   "metadata": {},
   "source": [
    "# Chi Squared test\n",
    "This is applied for two categorical variables from a single population. It is used to determine whether there is significant association between two variables."
   ]
  },
  {
   "cell_type": "code",
   "execution_count": 38,
   "id": "be9c8b45-9658-4fc9-8d96-026470bb2f38",
   "metadata": {},
   "outputs": [],
   "source": [
    "import seaborn as sns"
   ]
  },
  {
   "cell_type": "code",
   "execution_count": 39,
   "id": "c4563b56-c018-4618-b8f5-d745aad351e6",
   "metadata": {
    "scrolled": true
   },
   "outputs": [],
   "source": [
    "df = sns.load_dataset('tips')"
   ]
  },
  {
   "cell_type": "code",
   "execution_count": 40,
   "id": "7b7dba49-4165-437a-928a-38a0176fde73",
   "metadata": {},
   "outputs": [
    {
     "data": {
      "text/html": [
       "<div>\n",
       "<style scoped>\n",
       "    .dataframe tbody tr th:only-of-type {\n",
       "        vertical-align: middle;\n",
       "    }\n",
       "\n",
       "    .dataframe tbody tr th {\n",
       "        vertical-align: top;\n",
       "    }\n",
       "\n",
       "    .dataframe thead th {\n",
       "        text-align: right;\n",
       "    }\n",
       "</style>\n",
       "<table border=\"1\" class=\"dataframe\">\n",
       "  <thead>\n",
       "    <tr style=\"text-align: right;\">\n",
       "      <th></th>\n",
       "      <th>total_bill</th>\n",
       "      <th>tip</th>\n",
       "      <th>sex</th>\n",
       "      <th>smoker</th>\n",
       "      <th>day</th>\n",
       "      <th>time</th>\n",
       "      <th>size</th>\n",
       "    </tr>\n",
       "  </thead>\n",
       "  <tbody>\n",
       "    <tr>\n",
       "      <th>0</th>\n",
       "      <td>16.99</td>\n",
       "      <td>1.01</td>\n",
       "      <td>Female</td>\n",
       "      <td>No</td>\n",
       "      <td>Sun</td>\n",
       "      <td>Dinner</td>\n",
       "      <td>2</td>\n",
       "    </tr>\n",
       "    <tr>\n",
       "      <th>1</th>\n",
       "      <td>10.34</td>\n",
       "      <td>1.66</td>\n",
       "      <td>Male</td>\n",
       "      <td>No</td>\n",
       "      <td>Sun</td>\n",
       "      <td>Dinner</td>\n",
       "      <td>3</td>\n",
       "    </tr>\n",
       "    <tr>\n",
       "      <th>2</th>\n",
       "      <td>21.01</td>\n",
       "      <td>3.50</td>\n",
       "      <td>Male</td>\n",
       "      <td>No</td>\n",
       "      <td>Sun</td>\n",
       "      <td>Dinner</td>\n",
       "      <td>3</td>\n",
       "    </tr>\n",
       "    <tr>\n",
       "      <th>3</th>\n",
       "      <td>23.68</td>\n",
       "      <td>3.31</td>\n",
       "      <td>Male</td>\n",
       "      <td>No</td>\n",
       "      <td>Sun</td>\n",
       "      <td>Dinner</td>\n",
       "      <td>2</td>\n",
       "    </tr>\n",
       "    <tr>\n",
       "      <th>4</th>\n",
       "      <td>24.59</td>\n",
       "      <td>3.61</td>\n",
       "      <td>Female</td>\n",
       "      <td>No</td>\n",
       "      <td>Sun</td>\n",
       "      <td>Dinner</td>\n",
       "      <td>4</td>\n",
       "    </tr>\n",
       "  </tbody>\n",
       "</table>\n",
       "</div>"
      ],
      "text/plain": [
       "   total_bill   tip     sex smoker  day    time  size\n",
       "0       16.99  1.01  Female     No  Sun  Dinner     2\n",
       "1       10.34  1.66    Male     No  Sun  Dinner     3\n",
       "2       21.01  3.50    Male     No  Sun  Dinner     3\n",
       "3       23.68  3.31    Male     No  Sun  Dinner     2\n",
       "4       24.59  3.61  Female     No  Sun  Dinner     4"
      ]
     },
     "execution_count": 40,
     "metadata": {},
     "output_type": "execute_result"
    }
   ],
   "source": [
    "df.head()"
   ]
  },
  {
   "cell_type": "code",
   "execution_count": 41,
   "id": "4870223b-2db2-4c9d-bb6f-dc9d385f942b",
   "metadata": {},
   "outputs": [],
   "source": [
    "df_table = pd.crosstab(df['sex'],df['smoker'])# they may assume homogeneity of variance across groups being compared."
   ]
  },
  {
   "cell_type": "code",
   "execution_count": 42,
   "id": "6a1c6467-6985-46bb-879f-c7f6d31cf713",
   "metadata": {},
   "outputs": [
    {
     "data": {
      "text/html": [
       "<div>\n",
       "<style scoped>\n",
       "    .dataframe tbody tr th:only-of-type {\n",
       "        vertical-align: middle;\n",
       "    }\n",
       "\n",
       "    .dataframe tbody tr th {\n",
       "        vertical-align: top;\n",
       "    }\n",
       "\n",
       "    .dataframe thead th {\n",
       "        text-align: right;\n",
       "    }\n",
       "</style>\n",
       "<table border=\"1\" class=\"dataframe\">\n",
       "  <thead>\n",
       "    <tr style=\"text-align: right;\">\n",
       "      <th>smoker</th>\n",
       "      <th>Yes</th>\n",
       "      <th>No</th>\n",
       "    </tr>\n",
       "    <tr>\n",
       "      <th>sex</th>\n",
       "      <th></th>\n",
       "      <th></th>\n",
       "    </tr>\n",
       "  </thead>\n",
       "  <tbody>\n",
       "    <tr>\n",
       "      <th>Male</th>\n",
       "      <td>60</td>\n",
       "      <td>97</td>\n",
       "    </tr>\n",
       "    <tr>\n",
       "      <th>Female</th>\n",
       "      <td>33</td>\n",
       "      <td>54</td>\n",
       "    </tr>\n",
       "  </tbody>\n",
       "</table>\n",
       "</div>"
      ],
      "text/plain": [
       "smoker  Yes  No\n",
       "sex            \n",
       "Male     60  97\n",
       "Female   33  54"
      ]
     },
     "execution_count": 42,
     "metadata": {},
     "output_type": "execute_result"
    }
   ],
   "source": [
    "df_table"
   ]
  },
  {
   "cell_type": "code",
   "execution_count": 43,
   "id": "c1a582a6-2379-41b9-9631-88d708645122",
   "metadata": {},
   "outputs": [
    {
     "name": "stdout",
     "output_type": "stream",
     "text": [
      "Observed Value:\n",
      " [[60 97]\n",
      " [33 54]]\n"
     ]
    }
   ],
   "source": [
    "observed_value = df_table.values\n",
    "print('Observed Value:\\n', observed_value )"
   ]
  },
  {
   "cell_type": "code",
   "execution_count": 70,
   "id": "cac15903-c8b6-45a9-9714-e9190dde6230",
   "metadata": {},
   "outputs": [],
   "source": [
    "val = stats.chi2_contingency(df_table)"
   ]
  },
  {
   "cell_type": "code",
   "execution_count": 71,
   "id": "e7a24f40-b6a9-45e6-a720-60a15b74ce0f",
   "metadata": {},
   "outputs": [
    {
     "data": {
      "text/plain": [
       "Chi2ContingencyResult(statistic=0.0, pvalue=1.0, dof=1, expected_freq=array([[59.84016393, 97.15983607],\n",
       "       [33.15983607, 53.84016393]]))"
      ]
     },
     "execution_count": 71,
     "metadata": {},
     "output_type": "execute_result"
    }
   ],
   "source": [
    "val # We get the expected value"
   ]
  },
  {
   "cell_type": "code",
   "execution_count": 72,
   "id": "a703d247-2ac7-408d-ab0e-72cbf9f31b1b",
   "metadata": {},
   "outputs": [],
   "source": [
    "expected_values = val[3]"
   ]
  },
  {
   "cell_type": "code",
   "execution_count": 73,
   "id": "63993abd-0b66-4831-b797-0bdac083901a",
   "metadata": {},
   "outputs": [
    {
     "data": {
      "text/plain": [
       "array([[59.84016393, 97.15983607],\n",
       "       [33.15983607, 53.84016393]])"
      ]
     },
     "execution_count": 73,
     "metadata": {},
     "output_type": "execute_result"
    }
   ],
   "source": [
    "expected_values # saving the array of expected values by initiliazing an object"
   ]
  },
  {
   "cell_type": "code",
   "execution_count": 74,
   "id": "a3556ebd-137c-4b64-b268-627c6eee1b07",
   "metadata": {},
   "outputs": [
    {
     "name": "stdout",
     "output_type": "stream",
     "text": [
      "Degree of Freedom: 1\n"
     ]
    }
   ],
   "source": [
    "no_of_rows = len(df.iloc[0:2,0])\n",
    "no_of_columns = len(df.iloc[0,0:2])\n",
    "ddof = (no_of_rows-1)* (no_of_columns-1) # degree of freedpm\n",
    "\n",
    "print('Degree of Freedom:',ddof)"
   ]
  },
  {
   "cell_type": "code",
   "execution_count": 75,
   "id": "7219467d-214c-41fb-a7e2-b6332b74b8cc",
   "metadata": {},
   "outputs": [],
   "source": [
    "from scipy.stats import chi2\n",
    "chi_square = sum([(o-e)**2./e for o,e in zip(observed_value, expected_values)])\n",
    "chi_square_stat = chi_square[0]+chi_square[1]"
   ]
  },
  {
   "cell_type": "markdown",
   "id": "308e815c-79f4-413e-9807-20fc6520c645",
   "metadata": {},
   "source": [
    "The zip() function in Python is used to combine two or more iterable dictionaries into a single iterable, where corresponding elements from the input iterable are paired together as tuples."
   ]
  },
  {
   "cell_type": "code",
   "execution_count": 76,
   "id": "32284129-1b22-41fc-826f-28c6f0273c98",
   "metadata": {},
   "outputs": [
    {
     "name": "stdout",
     "output_type": "stream",
     "text": [
      "Chi Square Statistics:  0.001934818536627623\n"
     ]
    }
   ],
   "source": [
    "print('Chi Square Statistics: ',chi_square_stat)"
   ]
  },
  {
   "cell_type": "code",
   "execution_count": 80,
   "id": "91a4cc67-911a-41be-aa08-eceb4b7c4355",
   "metadata": {},
   "outputs": [
    {
     "name": "stdout",
     "output_type": "stream",
     "text": [
      "Critical value:  3.841458820694124\n"
     ]
    }
   ],
   "source": [
    "alpha = 0.05\n",
    "critical_value = chi2.ppf(q = 1-alpha,df = ddof) # ppf is opposite of cdf\n",
    "print('Critical value: ',critical_value)"
   ]
  },
  {
   "cell_type": "code",
   "execution_count": 83,
   "id": "2fae0ace-c8c6-4ab7-a867-68e02b590038",
   "metadata": {},
   "outputs": [
    {
     "name": "stdout",
     "output_type": "stream",
     "text": [
      "Degree of Freedom: 1\n",
      "Significance level: 0.05\n",
      "P-Value 0.964915107315732\n"
     ]
    }
   ],
   "source": [
    "#p-value\n",
    "p_value = 1-chi2.cdf(x= chi_square_stat,df = ddof)\n",
    "print('Degree of Freedom:',ddof)\n",
    "print('Significance level:',alpha)\n",
    "print('P-Value',p_value)"
   ]
  },
  {
   "cell_type": "code",
   "execution_count": 87,
   "id": "dfca3b24-6c32-468b-ab6e-919bd56103e1",
   "metadata": {},
   "outputs": [
    {
     "name": "stdout",
     "output_type": "stream",
     "text": [
      "We are accepting Null Hypothesis and that there is NO relationship between two categorical features\n",
      "We are accepting Null Hypothesis and that there is NO relationship between two categorical features\n"
     ]
    }
   ],
   "source": [
    "# Use critical-value or p-value, both works\n",
    "if chi_square_stat>=critical_value:\n",
    "    print('We are rejecting Null Hypothesis and that there is a relationship between two categorical features')\n",
    "else:\n",
    "    print('We are accepting Null Hypothesis and that there is NO relationship between two categorical features')\n",
    "if p_value <=alpha:\n",
    "    print('We are rejecting Null Hypothesis and that there is a relationship between two categorical features')\n",
    "else:\n",
    "    print('We are accepting Null Hypothesis and that there is NO relationship between two categorical features')"
   ]
  },
  {
   "cell_type": "code",
   "execution_count": null,
   "id": "dea6be83-6a2b-4a36-a20c-4c873f71ac72",
   "metadata": {},
   "outputs": [],
   "source": []
  }
 ],
 "metadata": {
  "kernelspec": {
   "display_name": "Python 3 (ipykernel)",
   "language": "python",
   "name": "python3"
  },
  "language_info": {
   "codemirror_mode": {
    "name": "ipython",
    "version": 3
   },
   "file_extension": ".py",
   "mimetype": "text/x-python",
   "name": "python",
   "nbconvert_exporter": "python",
   "pygments_lexer": "ipython3",
   "version": "3.11.7"
  }
 },
 "nbformat": 4,
 "nbformat_minor": 5
}
